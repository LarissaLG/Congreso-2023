{
 "cells": [
  {
   "cell_type": "markdown",
   "id": "b72b5e98",
   "metadata": {},
   "source": [
    "# Proyecto"
   ]
  },
  {
   "cell_type": "markdown",
   "id": "c5617774",
   "metadata": {},
   "source": [
    "### Método de Runge Kutta a 4° orden"
   ]
  },
  {
   "cell_type": "markdown",
   "id": "5028f1e0",
   "metadata": {},
   "source": [
    "En general, el método RK (de orden s) tiene la siguiente expresión:\n",
    "\n",
    "$$\\vec{x}_{n+1}=\\vec{x}+\\delta\\sum_{i=1}^{s}b_i\\:\\vec{k}_i$$\n",
    "\n",
    "donde:\n",
    "\n",
    "$$\\vec{k}_i=\\vec{g}\\left(\\vec{x}_n+\\delta\\sum_{j=1}^{s}a_{ij}\\:\\vec{k}_j,t_n+\\delta c_i\\right)$$\n",
    "\n",
    "con $a_{ij},b_i, c_i$ coeficientes propios del sistema numérico elegido."
   ]
  },
  {
   "cell_type": "markdown",
   "id": "59c342cd",
   "metadata": {},
   "source": [
    "Siguiendo la expresión anterior, tendremos que el método de Runge Kutta de cuarto orden está dado por:\n",
    "\n",
    "$$\\vec{x}_{n+1}=\\vec{x}_n+\\frac{1}{6}\\delta \\left(\\vec{k}_1+2\\vec{k}_2+2\\vec{k}_3+\\vec{k}_4\\right)$$\n",
    "\n",
    "con:\n",
    "\n",
    "$$\\vec{k}_1=\\vec{g}(\\vec{x}_n,t_n)$$\n",
    "\n",
    "$$\\vec{k}_2=\\vec{g}\\left(\\vec{x}_n+\\delta\\frac{\\vec{k}_1}{2},t_n+\\frac{\\delta}{2}\\right)$$\n",
    "\n",
    "$$\\vec{k}_3=\\vec{g}\\left(\\vec{x}_n+\\delta\\frac{\\vec{k}_2}{2},t_n+\\frac{\\delta}{2}\\right)$$\n",
    "\n",
    "$$\\vec{k}_4=\\vec{g}\\left(\\vec{x}_n+\\delta\\vec{k}_3,t_n+\\delta\\right)$$"
   ]
  },
  {
   "cell_type": "markdown",
   "id": "1391eeed",
   "metadata": {},
   "source": [
    "Consideremos el siguiente sistema de ecuaciones:\n",
    "\n",
    "$$\\frac{dT(t)}{dt}=\\frac{q_v(t)+q_c(t)}{\\rho\\nu(c_p+c_{pw}h(t))}=f(t,T(t),h(t))$$\n",
    "\n",
    "$$\\frac{dh(t)}{dt}=\\frac{(h_o(t)-h(t))L(T(t))}{V}=g(t,T(t),h(t))$$"
   ]
  },
  {
   "cell_type": "markdown",
   "id": "c0ec5db9",
   "metadata": {},
   "source": [
    "Entonces,\n",
    "\n",
    "$$T_{n+1}=T_n+\\frac{1}{6}\\left(m_1+2m_2+2m_3+m_4\\right)$$\n",
    "\n",
    "$$h_{n+1}=h_n+\\frac{1}{6}\\left(k_1+2k_2+2k_3+k_4\\right)$$\n",
    "\n",
    "sea $\\tau$ el ancho de paso\n",
    "\n",
    "\\begin{align*}\n",
    "m_1&=\\tau\\:f(t_n,T_n,h_n)\\\\\n",
    "m_2&=\\tau\\:f\\left(t_n+\\frac{1}{2}\\tau,T_n+\\frac{1}{2}m_1,h_n+\\frac{1}{2}k_1\\right)\\\\\n",
    "m_3&=\\tau\\:f\\left(t_n+\\frac{1}{2}\\tau,T_n+\\frac{1}{2}m_2,h_n+\\frac{1}{2}k_2\\right)\\\\\n",
    "m_4&=\\tau\\:f\\left(t_n+\\tau,T_n+m_3,h_n+k_3\\right)\n",
    "\\end{align*}\n",
    "\n",
    "y de manera análoga,\n",
    "\n",
    "\\begin{align*}\n",
    "k_1&=\\tau\\:g(t_n,T_n,h_n)\\\\\n",
    "k_2&=\\tau\\:g\\left(t_n+\\frac{1}{2}\\tau,T_n+\\frac{1}{2}m_1,h_n+\\frac{1}{2}k_1\\right)\\\\\n",
    "k_3&=\\tau\\:g\\left(t_n+\\frac{1}{2}\\tau,T_n+\\frac{1}{2}m_2,h_n+\\frac{1}{2}k_2\\right)\\\\\n",
    "k_4&=\\tau\\:g\\left(t_n+\\tau,T_n+m_3,h_n+k_3\\right)\n",
    "\\end{align*}"
   ]
  },
  {
   "cell_type": "code",
   "execution_count": null,
   "id": "fe43e5a1",
   "metadata": {},
   "outputs": [],
   "source": [
    "def RK4(ec_EDO, t_i,t_f,n,x0, args=[]):\n",
    "    #ec_EDO es el sistema a integrar (t,x)\n",
    "    #t_i es el tiempo inicial\n",
    "    #t_f es el tiempo final\n",
    "    #n es el número de puntos\n",
    "    #x0 son las condiciones iniciales\n",
    "    t_n = linspace(t_i,t_f,n) #arreglo entre el tiempo inicial y final\n",
    "    delta = t_n[1]-t_n[0] #ancho de paso\n",
    "    M, N = len(x0),len(t_n)\n",
    "    sol = zeros((M, N))\n",
    "    sol[:,0] = x0  #en la primer entrada de cada lista va la condicion inicial\n",
    "    for i in range(N-1):\n",
    "        k1 = ec_EDO(t_n[i],sol[:,i])\n",
    "        k2 = ec_EDO(t_n[i]+0.5*delta , sol[:,i] + (0.5*k1*delta))\n",
    "        k3 = ec_EDO(t_n[i]+0.5*delta , sol[:,i] + (0.5*k2*delta))\n",
    "        k4 = ec_EDO(t_n[i]+delta , sol[:,i]+ delta*k3)\n",
    "        sol[:,i+1] = sol[:,i] +  (1/6)*delta*(k1+2*k2+2*k3+k4)\n",
    "    return sol, t_n, delta"
   ]
  },
  {
   "cell_type": "code",
   "execution_count": 18,
   "id": "62ec6277",
   "metadata": {},
   "outputs": [],
   "source": [
    "#def RK4(ec_EDO1, ec_EDO2, t_i,t_f,n,T0,h0):\n",
    "    #ec_EDO es el sistema a integrar (t,x)\n",
    "    #t_i es el tiempo inicial\n",
    "    #t_f es el tiempo final\n",
    "    #n es el número de puntos\n",
    "    #T0 es la condicion inicial de la temperatura\n",
    "    #h0 es la condicion inicial de la humedad\n",
    "#    t_n = linspace(t_i,t_f,n) #arreglo entre el tiempo inicial y final\n",
    "#    tau = t_n[1]-t_n[0] #ancho de paso\n",
    "#    M, N, L = len(T0),len(t_n), len(h0)\n",
    "#    sol1 = zeros((M, N))\n",
    "#    sol1[:,0] = T0  #en la primer entrada de cada lista va la condicion inicial\n",
    "#    sol2 = zeros((L, N))\n",
    "#    sol2[:,0] = h0  #en la primer entrada de cada lista va la condicion inicial\n",
    "#    for i in range(N-1):\n",
    "#        m1 = ec_EDO1(t_n[i],sol1[:,i],sol2[:,i])\n",
    "#        k1 = ec_EDO2(t_n[i],sol1[:,i],sol2[:,i])\n",
    "#        m2 = ec_EDO1(t_n[i]+0.5*tau , sol1[:,i] + (0.5*m1*tau), sol2[:,i]+(0.5*k1*tau))\n",
    "#        k2 = ec_EDO2(t_n[i]+0.5*tau , sol1[:,i] + (0.5*m1*tau), sol2[:,i]+(0.5*k1*tau))\n",
    "#        m3 = ec_EDO1(t_n[i]+0.5*tau , sol1[:,i] + (0.5*m2*tau), sol2[:,i]+(0.5*k2*tau))\n",
    "#        k3 = ec_EDO2(t_n[i]+0.5*tau , sol1[:,i] + (0.5*m2*tau), sol2[:,i]+(0.5*k2*tau))\n",
    "#        m4 = ec_EDO1(t_n[i]+tau , sol1[:,i]+ tau*m3,  sol2[:,i]+ tau*k3)\n",
    "#        k4 = ec_EDO2(t_n[i]+tau , sol1[:,i]+ tau*m3,  sol2[:,i]+ tau*k3)\n",
    "#        sol1[:,i+1] = sol[:,i] +  (1/6)*delta*(k1+2*k2+2*k3+k4)\n",
    "#    return sol1,sol2, t_n"
   ]
  },
  {
   "cell_type": "markdown",
   "id": "a9341d05",
   "metadata": {},
   "source": [
    "Definimos el sistema de ecuaciones a resolver"
   ]
  },
  {
   "cell_type": "markdown",
   "id": "37f1fb16",
   "metadata": {},
   "source": [
    "Consideremos el siguiente sistema de ecuaciones:\n",
    "\n",
    "$$\\frac{dT(t)}{dt}=\\frac{q_v(t)+q_c(t)}{\\rho v(c_p+c_{pw}h(t))}=f(t,T(t),h(t))$$\n",
    "\n",
    "$$\\frac{dh(t)}{dt}=\\frac{(h_o(t)-h(t))L(T(t))}{V}=g(t,T(t),h(t))$$\n",
    "\n",
    "con \n",
    "$$q_v(t)=L(t)\\rho c_p(T_o(t)-T(t))$$\n",
    "\n",
    "$$L(t)=\\sqrt{L_T(t)^2+L_w(t)^2}$$\n",
    "\n",
    "$$L_T=\\mu_a\\frac{A_{va}(t)}{2}\\sqrt{\\frac{\\left(\\frac{T(t)}{T_o(t)}-1\\right)g \\:H}{\\left(\\frac{T(t)}{T_o(t)}\\right)^2+\\frac{T(t)}{T_o(t)}}}$$\n",
    "\n",
    "$$L_w(t)=\\beta\\:A_{va}(t)V_e(t)$$\n",
    "\n",
    "$$A_{va}(t)=2\\: A_a\\left(\\sin\\frac{\\theta_a(t)}{2}\\right)$$\n",
    "\n",
    "$$q_c=f_w(t)+f_r(t)$$\n",
    "\n",
    "$$f_w=A_{s1}\\: c_{wi}(T_1(t))-T(t))$$\n",
    "\n",
    "$$f_r=A_{r}\\: c_{ri}(T_4(t))-T(t))$$\n"
   ]
  },
  {
   "cell_type": "markdown",
   "id": "1a927347",
   "metadata": {},
   "source": [
    "denotamos $x_0=x,x_1=\\frac{dx}{dt}$. Entonces tenemos el sistema:\n",
    "\n",
    "$$\\frac{dx_0}{dt}=\\frac{dx}{dt}=x_1$$\n",
    "\n",
    "$$\\frac{dx_1}{dt}=\\frac{d^2x}{dt^2}=e^{-t}sin(3t)-sin(x_0)-\\frac{1}{2}x_1$$\n"
   ]
  },
  {
   "cell_type": "markdown",
   "id": "06a668a5",
   "metadata": {},
   "source": [
    "Vamos a definir algunas constantes:"
   ]
  },
  {
   "cell_type": "code",
   "execution_count": 5,
   "id": "67b41145",
   "metadata": {},
   "outputs": [
    {
     "ename": "SyntaxError",
     "evalue": "invalid syntax (1997347735.py, line 2)",
     "output_type": "error",
     "traceback": [
      "\u001b[1;36m  File \u001b[1;32m\"C:\\Users\\Poh\\AppData\\Local\\Temp\\ipykernel_5088\\1997347735.py\"\u001b[1;36m, line \u001b[1;32m2\u001b[0m\n\u001b[1;33m    V =      #volumen del invernadero\u001b[0m\n\u001b[1;37m             ^\u001b[0m\n\u001b[1;31mSyntaxError\u001b[0m\u001b[1;31m:\u001b[0m invalid syntax\n"
     ]
    }
   ],
   "source": [
    "rho = 1.293 #densidad del aire [kg/m^3]\n",
    "V =      #volumen del invernadero [m^3]\n",
    "cp = 1005 #capacidad calorífica específica del aire [J/(kg K)]\n",
    "cpw = 1850 #capacidad calorífica específica del vapor de agua [J/(kg K)]\n",
    "Aa =  0.001152 #area de la ventana abierta [m^2]\n",
    "mu = 0.1 #valor para theta=0\n",
    "beta = 0.3 #coeficiente de la presión del viento considerando dirección no perpendicular a la ventana \n",
    "As1 = 0.03405 #area de la pared 1 [m^2]\n",
    "As2 = 0.073548 #area de la pared 2 [m^2]\n",
    "As3 = 0.079904 #area de la pared 3 [m^2]\n",
    "As4 = 0.03405 #area de la pared 4 [m^2]\n",
    "Asr = 0.552798 #area del techo[m^2]\n",
    "delta1 = 0.000033 #grosor de las paredes [m] \n",
    "delta2 = 0.000046 #grosor del techo [m]"
   ]
  },
  {
   "cell_type": "markdown",
   "id": "cb24b955",
   "metadata": {},
   "source": [
    "Para calcular los coeficientes de convección $c_{w_1},c_{w_2},c_{w_3},c_{w_4}$ y $c_r$ de las superficies internas de las cuatro paredes y del techo:"
   ]
  },
  {
   "cell_type": "code",
   "execution_count": null,
   "id": "6a55521f",
   "metadata": {},
   "outputs": [],
   "source": [
    "lambda1 = 0.8 #conductividad térmica de las paredes de vidrio\n",
    "lambda2 = 0.13 #conductividad térmica del techo de madera\n",
    "L1 = #longitud de la pared 1 DUDA\n",
    "L2 = #longitud de la pared 2 DUDA!!!!!\n",
    "L3 = #longitud de la pared 3\n",
    "L4 = #longitud de la pared 4\n",
    "Lr = #longitud del techo\n",
    "H = #altura de la ventana"
   ]
  },
  {
   "cell_type": "code",
   "execution_count": 1,
   "id": "6ebc6fb2",
   "metadata": {},
   "outputs": [],
   "source": [
    "def coef_convec(Ve,lambdai,Li,delta):\n",
    "    #lambdai es la conductividad del material\n",
    "    #Li es la longitud de la pared o techo\n",
    "    #delta es el grosor del techo o las paredes\n",
    "    Re = (rho * Ve * Li)/mu #numero de Reynolds\n",
    "    Pr = (cp * rho * Ve * Li)/lambdai #numero de Prandt\n",
    "    Nu = 0.037* Re**(0.8) * Pr**(0.43)\n",
    "    alpha = (Nu * lambdai)/Li #coeficiente de la película de conveccion\n",
    "    K = 1/(2/alpha + delta/lambdai) #coeficiente de conveccion\n",
    "    return alpha, K"
   ]
  },
  {
   "cell_type": "markdown",
   "id": "5c4d99d7",
   "metadata": {},
   "source": [
    "Definimos el sistema de ecuaciones por resolver"
   ]
  },
  {
   "cell_type": "code",
   "execution_count": 4,
   "id": "197624bf",
   "metadata": {},
   "outputs": [
    {
     "ename": "SyntaxError",
     "evalue": "invalid syntax (1958065856.py, line 41)",
     "output_type": "error",
     "traceback": [
      "\u001b[1;36m  File \u001b[1;32m\"C:\\Users\\Poh\\AppData\\Local\\Temp\\ipykernel_5088\\1958065856.py\"\u001b[1;36m, line \u001b[1;32m41\u001b[0m\n\u001b[1;33m    return array([dT,dh])\u001b[0m\n\u001b[1;37m    ^\u001b[0m\n\u001b[1;31mSyntaxError\u001b[0m\u001b[1;31m:\u001b[0m invalid syntax\n"
     ]
    }
   ],
   "source": [
    "def ec_dif(t,x,theta,Ve,To,ho):  #sea x[0]=T y x[1]=h\n",
    "    #theta es 0 o 90 segun la ventana esté cerrada o abierta\n",
    "    #Ve es velocidad del viento del exterior\n",
    "    #To es la temperatura del aire del exterior [K]\n",
    "    #humedad absoluta del exterior\n",
    "    Ava = Aa * sin(theta) #area de la ventana segun esté abierta o cerrada\n",
    "    Lw = beta * Ava * Ve\n",
    "    if theta == 90:\n",
    "        mu = 0.62\n",
    "    LT = mu * (Ava/2) * sqrt((((x[0]/To)-1)*g*H)/((x[0]/To)**2 + (x[0]/To)))\n",
    "    L = sqrt(Lt**2 + Lw**2)\n",
    "    qv = L * rho * cp * (To - x[0])\n",
    "    #calculando los coeficientes de conveccion de todas las paredes y techo\n",
    "    pared1 = coef_convec(Ve,lambda1,L1,delta1)\n",
    "    pared2 = coef_convec(Ve,lambda1,L2,delta1)\n",
    "    pared3 = coef_convec(Ve,lambda1,L3,delta1)\n",
    "    pared4 = coef_convec(Ve,lambda1,L4,delta1)\n",
    "    techo = coef_convec(Ve,lambda2,Lr,delta2)\n",
    "    #calculando la transferencia de calor de paredes y techo\n",
    "    q1 = pared1[1] * (To - x[0])#calor\n",
    "    q2 = pared2[1] * (To - x[0])#calor\n",
    "    q3 = pared3[1] * (To - x[0])#calor\n",
    "    q4 = pared4[1] * (To - x[0])#calor\n",
    "    qr = techo[1] * (To - x[0])#calor\n",
    "    #calculando las temperaturas de la superficie interna de paredes y techo\n",
    "    T1 = ((pared1[0] * x[0]) - q1)/pared1[0] #temperatura interna de la pared 1\n",
    "    T2 = ((pared2[0] * x[0]) - q2)/pared2[0] #temperatura interna de la pared 2\n",
    "    T3 = ((pared3[0] * x[0]) - q3)/pared3[0] #temperatura interna de la pared 3\n",
    "    T4 = ((pared4[0] * x[0]) - q4)/pared4[0] #temperatura interna de la pared 4\n",
    "    Tr = ((techo[0] * x[0]) - qr)/techo[0] #temperatura interna del techo\n",
    "    #calculando las contribuciones de cada pared y techo\n",
    "    fp1 = As1 * pared1[1] * (T1 - x[0])\n",
    "    fp2 = As2 * pared2[1] * (T2 - x[0])\n",
    "    fp3 = As3 * pared3[1] * (T3 - x[0])\n",
    "    fp4 = As4 * pared4[1] * (T4 - x[0])\n",
    "    fr = Asr * techo[1] * (Tr - x[0])\n",
    "    qc = fp1 + fp2 + fp3 + fp4 + fr\n",
    "    ###\n",
    "    dT = (qv+qc)/(rho*V*(cp + (cpw*x[1]))\n",
    "    dh = ((ho - x[1])*L)/V\n",
    "    return array([dT,dh])"
   ]
  }
 ],
 "metadata": {
  "kernelspec": {
   "display_name": "Python 3 (ipykernel)",
   "language": "python",
   "name": "python3"
  },
  "language_info": {
   "codemirror_mode": {
    "name": "ipython",
    "version": 3
   },
   "file_extension": ".py",
   "mimetype": "text/x-python",
   "name": "python",
   "nbconvert_exporter": "python",
   "pygments_lexer": "ipython3",
   "version": "3.9.13"
  }
 },
 "nbformat": 4,
 "nbformat_minor": 5
}
